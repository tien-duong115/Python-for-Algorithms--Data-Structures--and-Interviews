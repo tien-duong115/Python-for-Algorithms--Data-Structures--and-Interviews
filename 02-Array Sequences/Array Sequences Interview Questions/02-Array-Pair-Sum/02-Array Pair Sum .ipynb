{
 "cells": [
  {
   "cell_type": "markdown",
   "metadata": {},
   "source": [
    "# Array Pair Sum\n",
    "\n",
    "## Problem\n",
    "\n",
    "Given an integer array, output all the ** *unique* ** pairs that sum up to a specific value **k**.\n",
    "\n",
    "So the input:\n",
    "    \n",
    "    pair_sum([1,3,2,2],4)\n",
    "\n",
    "would return **2** pairs:\n",
    "\n",
    "     (1,3)\n",
    "     (2,2)\n",
    "\n",
    "**NOTE: FOR TESTING PURPOSES CHANGE YOUR FUNCTION SO IT OUTPUTS THE NUMBER OF PAIRS**\n",
    "\n",
    "## Solution\n",
    "\n",
    "Fill out your solution below:"
   ]
  },
  {
   "cell_type": "code",
   "execution_count": 1,
   "metadata": {
    "collapsed": true
   },
   "outputs": [],
   "source": [
    "def pair_sum(arr,k):\n",
    "    a = []\n",
    "    for i in arr:\n",
    "        for e in arr[1:]:\n",
    "            if i+e == 4:\n",
    "                ms = (i,e)\n",
    "                a.append(ms)\n",
    "    return set(a) \n",
    "                \n",
    "    "
   ]
  },
  {
   "cell_type": "code",
   "execution_count": 11,
   "metadata": {},
   "outputs": [
    {
     "name": "stdout",
     "output_type": "stream",
     "text": [
      "second 9 1\n",
      "second 8 2\n",
      "second 7 3\n",
      "second 6 4\n",
      "second 5 5\n",
      "second -1 11\n",
      "6\n"
     ]
    }
   ],
   "source": [
    "def pair_sum(arr,k):\n",
    "    \n",
    "    if len(arr)<2:\n",
    "        return\n",
    "    \n",
    "    # Sets for tracking\n",
    "    seen = set()\n",
    "    output = set()\n",
    "    \n",
    "    # For every number in array\n",
    "    for num in arr:\n",
    "        \n",
    "        # Set target difference\n",
    "        target = k-num\n",
    "        \n",
    "        # Add it to set if target hasn't been seen\n",
    "        if target not in seen:\n",
    "            seen.add(num)\n",
    "        else:\n",
    "            # Add a tuple with the corresponding pair\n",
    "            output.add( (min(num,target),  max(num,target)) )\n",
    "            print('second',num,target)\n",
    "    \n",
    "    # FOR TESTING\n",
    "    return len(output)\n",
    "                \n",
    "print(pair_sum([1,9,2,8,3,7,4,6,5,5,13,14,11,13,-1],10))\n"
   ]
  },
  {
   "cell_type": "code",
   "execution_count": 2,
   "metadata": {},
   "outputs": [
    {
     "name": "stdout",
     "output_type": "stream",
     "text": [
      "{(5, -1), (-1, 5), (1, 3), (2, 2)}\n",
      "{(3, 1), (1, 3), (2, 2)}\n",
      "{(1, 3), (2, 2)}\n"
     ]
    }
   ],
   "source": [
    "print(pair_sum([1,9,2,8,3,7,4,6,5,5,13,14,11,13,-1],10))\n",
    "\n",
    "print(pair_sum([1,2,3,1],5))\n",
    "\n",
    "print(pair_sum([1,3,2,2],4))"
   ]
  },
  {
   "cell_type": "markdown",
   "metadata": {},
   "source": [
    "# Test Your Solution"
   ]
  },
  {
   "cell_type": "markdown",
   "metadata": {},
   "source": [
    "## Good Job!"
   ]
  }
 ],
 "metadata": {
  "kernelspec": {
   "display_name": "Python 3",
   "language": "python",
   "name": "python3"
  },
  "language_info": {
   "codemirror_mode": {
    "name": "ipython",
    "version": 3
   },
   "file_extension": ".py",
   "mimetype": "text/x-python",
   "name": "python",
   "nbconvert_exporter": "python",
   "pygments_lexer": "ipython3",
   "version": "2.7.18"
  }
 },
 "nbformat": 4,
 "nbformat_minor": 1
}
