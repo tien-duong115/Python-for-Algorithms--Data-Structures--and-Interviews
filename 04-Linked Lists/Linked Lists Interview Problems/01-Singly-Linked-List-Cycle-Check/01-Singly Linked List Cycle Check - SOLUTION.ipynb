{
 "cells": [
  {
   "cell_type": "markdown",
   "metadata": {},
   "source": [
    "# Singly Linked List Cycle Check - SOLUTION\n",
    "\n",
    "## Problem\n",
    "\n",
    "Given a singly linked list, write a function which takes in the first node in a singly linked list and returns a boolean indicating if the linked list contains a \"cycle\".\n",
    "\n",
    "A cycle is when a node's next point actually points back to a previous node in the list. This is also sometimes known as a circularly linked list.\n",
    "\n",
    "You've been given the Linked List Node class code:"
   ]
  },
  {
   "cell_type": "code",
   "execution_count": 1,
   "metadata": {},
   "outputs": [],
   "source": [
    "class Node(object):\n",
    "    \n",
    "    def __init__(self,value):\n",
    "        \n",
    "        self.value = value\n",
    "        self.nextnode = None"
   ]
  },
  {
   "cell_type": "markdown",
   "metadata": {},
   "source": [
    "## Solution\n",
    "\n",
    "To solve this problem we will have two markers traversing through the list. **marker1** and **marker2**. We will have both makers begin at the first node of the list and traverse through the linked list. However the second marker, marker2, will move two nodes ahead for every one node that marker1 moves.\n",
    "\n",
    "By this logic we can imagine that the markers are \"racing\" through the linked list, with marker2 moving faster. If the linked list has a cylce and is circularly connected we will have the analogy of a track, in this case the marker2 will eventually be \"lapping\" the marker1 and they will equal each other. \n",
    "\n",
    "If the linked list has no cycle, then marker2 should be able to continue on until the very end, never equaling the first marker.\n",
    "\n",
    "Let's see this logic coded out:"
   ]
  },
  {
   "cell_type": "code",
   "execution_count": 2,
   "metadata": {},
   "outputs": [],
   "source": [
    "def cycle_check(node):\n",
    "\n",
    "    # Begin both markers at the first node\n",
    "    marker1 = node\n",
    "    marker2 = node\n",
    "\n",
    "    # Go until end of list\n",
    "    while marker2 != None and marker2.nextnode != None:\n",
    "        \n",
    "        # Note\n",
    "        marker1 = marker1.nextnode\n",
    "        marker2 = marker2.nextnode.nextnode\n",
    "\n",
    "        # Check if the markers have matched\n",
    "        if marker2 == marker1:\n",
    "            return True\n",
    "\n",
    "    # Case where marker ahead reaches the end of the list\n",
    "    return False"
   ]
  },
  {
   "cell_type": "code",
   "execution_count": 44,
   "metadata": {},
   "outputs": [],
   "source": [
    "class ListNode:\n",
    "    def __init__(self, data, next = None):\n",
    "      self.data = data\n",
    "      self.next = next\n",
    "      \n",
    "    def view_data(self):\n",
    "        return self.data  \n",
    "      \n",
    "def make_list(elements):\n",
    "    head = ListNode(elements[0])\n",
    "    for element in elements[1:]:\n",
    "        # print(element)\n",
    "        # fake_node = []\n",
    "        # head = elements[0]\n",
    "        # ptr = head\n",
    "        # print(ptr)\n",
    "        # while ptr.next:\n",
    "        #     ptr = ptr.next\n",
    "# `        ptr.next = fake_node.append(element)\n",
    "        ptr = head\n",
    "        while ptr.next:\n",
    "            ptr = ptr.next\n",
    "            print('in-while \\n\\n',ptr.data)\n",
    "        ptr.next = ListNode(element)\n",
    "        # print(ptr.data)    \n",
    "    return head\n",
    "\n",
    "\n",
    "\n",
    "# def get_node(head, pos):\n",
    "#    if pos != -1:\n",
    "#       p = 0\n",
    "#       ptr = head\n",
    "#       while p < pos:\n",
    "#          ptr = ptr.next\n",
    "#          p += 1\n",
    "#       return ptr\n",
    "\n",
    "# class Solution(object):\n",
    "#    def hasCycle(self, head):\n",
    "#       hashS = set()\n",
    "#       while head:\n",
    "#          if head in hashS:\n",
    "#             return True\n",
    "#          hashS.add(head)\n",
    "#          head = head.next\n",
    "#       return False\n",
    "\n",
    "# head = make_list([1,2,3,4,5,6])\n",
    "# last_node = get_node(head, 5)\n",
    "# pos = 1\n",
    "# last_node.next = get_node(head, pos)\n",
    "# ob1 = Solution()\n",
    "# print(ob1.hasCycle(head))\n"
   ]
  },
  {
   "cell_type": "code",
   "execution_count": 61,
   "metadata": {},
   "outputs": [
    {
     "name": "stdout",
     "output_type": "stream",
     "text": [
      "2\n",
      "3\n",
      "4\n"
     ]
    }
   ],
   "source": [
    "class Node:\n",
    "    def __init__(self, cargo=None, next=None):\n",
    "        self.cargo = cargo\n",
    "        self.next  = next\n",
    "\n",
    "    def __str__(self):\n",
    "        return str(self.cargo)\n",
    "    \n",
    "    \n",
    "def make_list(elements):\n",
    "    head = ListNode(elements[0])\n",
    "    for ele in elements[1:]:\n",
    "        pointer = head\n",
    "\n",
    "        # create a next for every element found in provided list\n",
    "        while pointer.next:\n",
    "            pointer = pointer.next\n",
    "        pointer.next = ListNode(ele)\n",
    "        \n",
    "    return head\n",
    "    \n",
    "node1 = Node(1)\n",
    "node2 = Node(2)\n",
    "node3 = Node(3)\n",
    "node4 = Node(4)\n",
    "\n",
    "node1.next = node2\n",
    "node2.next = node3\n",
    "node3.next = node4\n",
    "\n",
    "def print_list(node):\n",
    "    while node:\n",
    "        print(node)\n",
    "        node = node.next\n",
    "\n",
    "def take_list(my_list):\n",
    "    the_head = ListNode(my_list[0])\n",
    "    \n",
    "    for i in range(len(my_list[1:])):\n",
    "        ListNode"
   ]
  },
  {
   "cell_type": "code",
   "execution_count": 79,
   "metadata": {},
   "outputs": [],
   "source": [
    "mlist = []\n",
    "my_list = [4,6,8,10]\n",
    "for i in range(len(my_list)):\n",
    "    mlist.append(ListNode(i))\n"
   ]
  },
  {
   "cell_type": "code",
   "execution_count": 84,
   "metadata": {},
   "outputs": [
    {
     "name": "stdout",
     "output_type": "stream",
     "text": [
      "0 <__main__.ListNode object at 0x7f219aeac460>\n",
      "1 <__main__.ListNode object at 0x7f219aeac8b0>\n",
      "2 <__main__.ListNode object at 0x7f219aeaca30>\n",
      "3 <__main__.ListNode object at 0x7f219aeacfd0>\n"
     ]
    }
   ],
   "source": [
    "for i,ele in enumerate(mlist[0:]):\n",
    "    print(i,ele)\n",
    "    "
   ]
  },
  {
   "cell_type": "code",
   "execution_count": 97,
   "metadata": {},
   "outputs": [
    {
     "name": "stdout",
     "output_type": "stream",
     "text": [
      "0 <__main__.ListNode object at 0x7f219aeac460>\n",
      "1 <__main__.ListNode object at 0x7f219aeac8b0>\n",
      "2 <__main__.ListNode object at 0x7f219aeaca30>\n"
     ]
    }
   ],
   "source": [
    "for i,ele in enumerate(mlist[1:]):\n",
    "    print(i, mlist[i] )"
   ]
  },
  {
   "cell_type": "code",
   "execution_count": 105,
   "metadata": {},
   "outputs": [
    {
     "name": "stdout",
     "output_type": "stream",
     "text": [
      "None\n",
      "<__main__.ListNode object at 0x7f219aeac8b0>\n",
      "<__main__.ListNode object at 0x7f219aeaca30>\n",
      "<__main__.ListNode object at 0x7f219aeacfd0>\n"
     ]
    }
   ],
   "source": [
    "for i,ele in enumerate(mlist[1:]):\n",
    "    a = mlist[i+1]\n",
    "    ele.next = a\n",
    "for i in mlist:\n",
    "    print(i.next)"
   ]
  },
  {
   "cell_type": "markdown",
   "metadata": {},
   "source": [
    "# Test Your Solution"
   ]
  },
  {
   "cell_type": "code",
   "execution_count": 3,
   "metadata": {},
   "outputs": [
    {
     "name": "stdout",
     "output_type": "stream",
     "text": [
      "ALL TEST CASES PASSED\n"
     ]
    }
   ],
   "source": [
    "\"\"\"\n",
    "RUN THIS CELL TO TEST YOUR SOLUTION\n",
    "\"\"\"\n",
    "from nose.tools import assert_equal\n",
    "\n",
    "# CREATE CYCLE LIST\n",
    "a = Node(1)\n",
    "b = Node(2)\n",
    "c = Node(3)\n",
    "\n",
    "a.nextnode = b\n",
    "b.nextnode = c\n",
    "c.nextnode = a # Cycle Here!\n",
    "\n",
    "\n",
    "# CREATE NON CYCLE LIST\n",
    "x = Node(1)\n",
    "y = Node(2)\n",
    "z = Node(3)\n",
    "\n",
    "x.nextnode = y\n",
    "y.nextnode = z\n",
    "\n",
    "\n",
    "#############\n",
    "class TestCycleCheck(object):\n",
    "    \n",
    "    def test(self,sol):\n",
    "        assert_equal(sol(a),True)\n",
    "        assert_equal(sol(x),False)\n",
    "        \n",
    "        print(\"ALL TEST CASES PASSED\")\n",
    "        \n",
    "# Run Tests\n",
    "\n",
    "t = TestCycleCheck()\n",
    "t.test(cycle_check)\n"
   ]
  },
  {
   "cell_type": "markdown",
   "metadata": {},
   "source": [
    "## Good Job!"
   ]
  }
 ],
 "metadata": {
  "kernelspec": {
   "display_name": "Python 3",
   "language": "python",
   "name": "python3"
  },
  "language_info": {
   "codemirror_mode": {
    "name": "ipython",
    "version": 3
   },
   "file_extension": ".py",
   "mimetype": "text/x-python",
   "name": "python",
   "nbconvert_exporter": "python",
   "pygments_lexer": "ipython3",
   "version": "3.8.10"
  }
 },
 "nbformat": 4,
 "nbformat_minor": 1
}
